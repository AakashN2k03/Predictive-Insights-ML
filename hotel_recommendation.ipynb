{
 "cells": [
  {
   "cell_type": "code",
   "execution_count": 27,
   "id": "9aaaf84b-26bf-4fbb-b80e-3ceb1c9d612f",
   "metadata": {},
   "outputs": [],
   "source": [
    "import pandas as pd\n",
    "import pandas as np\n",
    "from sklearn.feature_extraction.text import TfidfVectorizer\n",
    "from sklearn.metrics.pairwise import cosine_similarity"
   ]
  },
  {
   "cell_type": "code",
   "execution_count": 2,
   "id": "817d2a46-8034-4ebc-bd7e-b4690a1440e0",
   "metadata": {},
   "outputs": [
    {
     "name": "stdout",
     "output_type": "stream",
     "text": [
      "Requirement already satisfied: scikit-learn in c:\\users\\aakash\\.conda\\envs\\gpu_env\\lib\\site-packages (1.4.0)\n",
      "Requirement already satisfied: numpy<2.0,>=1.19.5 in c:\\users\\aakash\\.conda\\envs\\gpu_env\\lib\\site-packages (from scikit-learn) (1.26.3)\n",
      "Requirement already satisfied: scipy>=1.6.0 in c:\\users\\aakash\\.conda\\envs\\gpu_env\\lib\\site-packages (from scikit-learn) (1.11.4)\n",
      "Requirement already satisfied: joblib>=1.2.0 in c:\\users\\aakash\\.conda\\envs\\gpu_env\\lib\\site-packages (from scikit-learn) (1.3.2)\n",
      "Requirement already satisfied: threadpoolctl>=2.0.0 in c:\\users\\aakash\\.conda\\envs\\gpu_env\\lib\\site-packages (from scikit-learn) (3.2.0)\n",
      "Note: you may need to restart the kernel to use updated packages.\n"
     ]
    }
   ],
   "source": [
    "pip install scikit-learn\n"
   ]
  },
  {
   "cell_type": "markdown",
   "id": "b0c67cc1-b616-4f12-b9a9-2a29eea774fc",
   "metadata": {},
   "source": [
    "data collection and preprocessing\n"
   ]
  },
  {
   "cell_type": "code",
   "execution_count": 3,
   "id": "a1cf7f2b-4c1c-4358-9fa2-f4c5ae3cf7dc",
   "metadata": {},
   "outputs": [],
   "source": [
    "hotel_df1=pd.read_csv('Hotel_details.csv')"
   ]
  },
  {
   "cell_type": "code",
   "execution_count": 4,
   "id": "48d58269-ec71-45b8-86c1-21577526f1d8",
   "metadata": {},
   "outputs": [
    {
     "data": {
      "text/html": [
       "<div>\n",
       "<style scoped>\n",
       "    .dataframe tbody tr th:only-of-type {\n",
       "        vertical-align: middle;\n",
       "    }\n",
       "\n",
       "    .dataframe tbody tr th {\n",
       "        vertical-align: top;\n",
       "    }\n",
       "\n",
       "    .dataframe thead th {\n",
       "        text-align: right;\n",
       "    }\n",
       "</style>\n",
       "<table border=\"1\" class=\"dataframe\">\n",
       "  <thead>\n",
       "    <tr style=\"text-align: right;\">\n",
       "      <th></th>\n",
       "      <th>id</th>\n",
       "      <th>hotelid</th>\n",
       "      <th>hotelname</th>\n",
       "      <th>address</th>\n",
       "      <th>city</th>\n",
       "      <th>country</th>\n",
       "      <th>zipcode</th>\n",
       "      <th>propertytype</th>\n",
       "      <th>starrating</th>\n",
       "      <th>latitude</th>\n",
       "      <th>longitude</th>\n",
       "      <th>Source</th>\n",
       "      <th>url</th>\n",
       "      <th>curr</th>\n",
       "    </tr>\n",
       "  </thead>\n",
       "  <tbody>\n",
       "    <tr>\n",
       "      <th>0</th>\n",
       "      <td>46406</td>\n",
       "      <td>1771651</td>\n",
       "      <td>Mediteran Bungalow Galeb</td>\n",
       "      <td>Vukovarska 7</td>\n",
       "      <td>Omis</td>\n",
       "      <td>Croatia</td>\n",
       "      <td>21310.0</td>\n",
       "      <td>Holiday parks</td>\n",
       "      <td>4</td>\n",
       "      <td>43.440124</td>\n",
       "      <td>16.682505</td>\n",
       "      <td>2</td>\n",
       "      <td>https://www.booking.com/hotel/hr/bungalow-luxu...</td>\n",
       "      <td>EUR</td>\n",
       "    </tr>\n",
       "    <tr>\n",
       "      <th>1</th>\n",
       "      <td>46407</td>\n",
       "      <td>177167</td>\n",
       "      <td>Hotel Polonia</td>\n",
       "      <td>Plac Teatralny 5</td>\n",
       "      <td>Torun</td>\n",
       "      <td>Poland</td>\n",
       "      <td>NaN</td>\n",
       "      <td>Hotels</td>\n",
       "      <td>3</td>\n",
       "      <td>53.012329</td>\n",
       "      <td>18.603800</td>\n",
       "      <td>5</td>\n",
       "      <td>https://www.agoda.com/en-gb/hotel-polonia/hote...</td>\n",
       "      <td>EUR</td>\n",
       "    </tr>\n",
       "    <tr>\n",
       "      <th>2</th>\n",
       "      <td>46408</td>\n",
       "      <td>1771675</td>\n",
       "      <td>Rifugio Sass Bece</td>\n",
       "      <td>Belvedere del Pordoi,1</td>\n",
       "      <td>Canazei</td>\n",
       "      <td>Italy</td>\n",
       "      <td>38032.0</td>\n",
       "      <td>Hotels</td>\n",
       "      <td>3</td>\n",
       "      <td>46.477920</td>\n",
       "      <td>11.813350</td>\n",
       "      <td>2</td>\n",
       "      <td>http://www.booking.com/hotel/it/rifugio-sass-b...</td>\n",
       "      <td>EUR</td>\n",
       "    </tr>\n",
       "    <tr>\n",
       "      <th>3</th>\n",
       "      <td>46409</td>\n",
       "      <td>177168</td>\n",
       "      <td>Madalena Hotel</td>\n",
       "      <td>Mykonos</td>\n",
       "      <td>Mykonos</td>\n",
       "      <td>Greece</td>\n",
       "      <td>84600.0</td>\n",
       "      <td>Hotels</td>\n",
       "      <td>3</td>\n",
       "      <td>37.452316</td>\n",
       "      <td>25.329849</td>\n",
       "      <td>5</td>\n",
       "      <td>https://www.agoda.com/en-gb/madalena-hotel/hot...</td>\n",
       "      <td>EUR</td>\n",
       "    </tr>\n",
       "    <tr>\n",
       "      <th>4</th>\n",
       "      <td>46410</td>\n",
       "      <td>1771718</td>\n",
       "      <td>Pension Morenfeld</td>\n",
       "      <td>Mair im Korn Strasse 2</td>\n",
       "      <td>Lagundo</td>\n",
       "      <td>Italy</td>\n",
       "      <td>39022.0</td>\n",
       "      <td>Hotels</td>\n",
       "      <td>3</td>\n",
       "      <td>46.682780</td>\n",
       "      <td>11.131736</td>\n",
       "      <td>2</td>\n",
       "      <td>http://www.booking.com/hotel/it/pension-morenf...</td>\n",
       "      <td>EUR</td>\n",
       "    </tr>\n",
       "    <tr>\n",
       "      <th>5</th>\n",
       "      <td>46411</td>\n",
       "      <td>1771733</td>\n",
       "      <td>Boutique Hotel Three Lilies</td>\n",
       "      <td>Narodni 3</td>\n",
       "      <td>Frantiskovy Lazne</td>\n",
       "      <td>Czech Republic</td>\n",
       "      <td>NaN</td>\n",
       "      <td>Hotels</td>\n",
       "      <td>4</td>\n",
       "      <td>50.118496</td>\n",
       "      <td>12.349790</td>\n",
       "      <td>2</td>\n",
       "      <td>http://www.booking.com/hotel/cz/three-lilies.e...</td>\n",
       "      <td>EUR</td>\n",
       "    </tr>\n",
       "    <tr>\n",
       "      <th>6</th>\n",
       "      <td>46412</td>\n",
       "      <td>177175</td>\n",
       "      <td>MPM Hotel Sport</td>\n",
       "      <td>100, Pirin Str</td>\n",
       "      <td>Bansko</td>\n",
       "      <td>Bulgaria</td>\n",
       "      <td>2770.0</td>\n",
       "      <td>Hotels</td>\n",
       "      <td>4</td>\n",
       "      <td>41.824789</td>\n",
       "      <td>23.477644</td>\n",
       "      <td>2</td>\n",
       "      <td>http://www.booking.com/hotel/bg/sport.en-gb.html</td>\n",
       "      <td>BGN</td>\n",
       "    </tr>\n",
       "    <tr>\n",
       "      <th>7</th>\n",
       "      <td>46413</td>\n",
       "      <td>177176</td>\n",
       "      <td>Family Hotel Santo Bansko</td>\n",
       "      <td>6 St.Ivan Rilski Str</td>\n",
       "      <td>Bansko</td>\n",
       "      <td>Bulgaria</td>\n",
       "      <td>2770.0</td>\n",
       "      <td>Hotels</td>\n",
       "      <td>3</td>\n",
       "      <td>41.829603</td>\n",
       "      <td>23.481450</td>\n",
       "      <td>2</td>\n",
       "      <td>http://www.booking.com/hotel/bg/santo-bansko.e...</td>\n",
       "      <td>BGN</td>\n",
       "    </tr>\n",
       "    <tr>\n",
       "      <th>8</th>\n",
       "      <td>46414</td>\n",
       "      <td>177179</td>\n",
       "      <td>Villas Jagoda &amp; Malina</td>\n",
       "      <td>Borovets</td>\n",
       "      <td>Borovets</td>\n",
       "      <td>Bulgaria</td>\n",
       "      <td>2010.0</td>\n",
       "      <td>Holiday parks</td>\n",
       "      <td>3</td>\n",
       "      <td>42.275284</td>\n",
       "      <td>23.618516</td>\n",
       "      <td>2</td>\n",
       "      <td>http://www.booking.com/hotel/bg/villa-settleme...</td>\n",
       "      <td>BGN</td>\n",
       "    </tr>\n",
       "    <tr>\n",
       "      <th>9</th>\n",
       "      <td>46415</td>\n",
       "      <td>177183</td>\n",
       "      <td>Hotel Silver</td>\n",
       "      <td>10,Lozengrad</td>\n",
       "      <td>Sozopol</td>\n",
       "      <td>Bulgaria</td>\n",
       "      <td>8130.0</td>\n",
       "      <td>Hotels</td>\n",
       "      <td>3</td>\n",
       "      <td>42.417956</td>\n",
       "      <td>27.699371</td>\n",
       "      <td>2</td>\n",
       "      <td>http://www.booking.com/hotel/bg/silver-sozopol...</td>\n",
       "      <td>BGN</td>\n",
       "    </tr>\n",
       "  </tbody>\n",
       "</table>\n",
       "</div>"
      ],
      "text/plain": [
       "      id  hotelid                    hotelname                 address  \\\n",
       "0  46406  1771651     Mediteran Bungalow Galeb            Vukovarska 7   \n",
       "1  46407   177167                Hotel Polonia        Plac Teatralny 5   \n",
       "2  46408  1771675            Rifugio Sass Bece  Belvedere del Pordoi,1   \n",
       "3  46409   177168               Madalena Hotel                 Mykonos   \n",
       "4  46410  1771718            Pension Morenfeld  Mair im Korn Strasse 2   \n",
       "5  46411  1771733  Boutique Hotel Three Lilies               Narodni 3   \n",
       "6  46412   177175              MPM Hotel Sport          100, Pirin Str   \n",
       "7  46413   177176    Family Hotel Santo Bansko    6 St.Ivan Rilski Str   \n",
       "8  46414   177179       Villas Jagoda & Malina                Borovets   \n",
       "9  46415   177183                 Hotel Silver            10,Lozengrad   \n",
       "\n",
       "                city         country  zipcode   propertytype  starrating  \\\n",
       "0               Omis         Croatia  21310.0  Holiday parks           4   \n",
       "1              Torun          Poland      NaN         Hotels           3   \n",
       "2            Canazei           Italy  38032.0         Hotels           3   \n",
       "3            Mykonos          Greece  84600.0         Hotels           3   \n",
       "4            Lagundo           Italy  39022.0         Hotels           3   \n",
       "5  Frantiskovy Lazne  Czech Republic      NaN         Hotels           4   \n",
       "6             Bansko        Bulgaria   2770.0         Hotels           4   \n",
       "7             Bansko        Bulgaria   2770.0         Hotels           3   \n",
       "8           Borovets        Bulgaria   2010.0  Holiday parks           3   \n",
       "9            Sozopol        Bulgaria   8130.0         Hotels           3   \n",
       "\n",
       "    latitude  longitude  Source  \\\n",
       "0  43.440124  16.682505       2   \n",
       "1  53.012329  18.603800       5   \n",
       "2  46.477920  11.813350       2   \n",
       "3  37.452316  25.329849       5   \n",
       "4  46.682780  11.131736       2   \n",
       "5  50.118496  12.349790       2   \n",
       "6  41.824789  23.477644       2   \n",
       "7  41.829603  23.481450       2   \n",
       "8  42.275284  23.618516       2   \n",
       "9  42.417956  27.699371       2   \n",
       "\n",
       "                                                 url curr  \n",
       "0  https://www.booking.com/hotel/hr/bungalow-luxu...  EUR  \n",
       "1  https://www.agoda.com/en-gb/hotel-polonia/hote...  EUR  \n",
       "2  http://www.booking.com/hotel/it/rifugio-sass-b...  EUR  \n",
       "3  https://www.agoda.com/en-gb/madalena-hotel/hot...  EUR  \n",
       "4  http://www.booking.com/hotel/it/pension-morenf...  EUR  \n",
       "5  http://www.booking.com/hotel/cz/three-lilies.e...  EUR  \n",
       "6   http://www.booking.com/hotel/bg/sport.en-gb.html  BGN  \n",
       "7  http://www.booking.com/hotel/bg/santo-bansko.e...  BGN  \n",
       "8  http://www.booking.com/hotel/bg/villa-settleme...  BGN  \n",
       "9  http://www.booking.com/hotel/bg/silver-sozopol...  BGN  "
      ]
     },
     "execution_count": 4,
     "metadata": {},
     "output_type": "execute_result"
    }
   ],
   "source": [
    "hotel_df1.head(10)"
   ]
  },
  {
   "cell_type": "code",
   "execution_count": 5,
   "id": "108c41ce-f924-4500-bb0e-80abb7b666c8",
   "metadata": {},
   "outputs": [
    {
     "data": {
      "text/plain": [
       "(108048, 14)"
      ]
     },
     "execution_count": 5,
     "metadata": {},
     "output_type": "execute_result"
    }
   ],
   "source": [
    "# rows and col\n",
    "hotel_df1.shape\n"
   ]
  },
  {
   "cell_type": "code",
   "execution_count": 6,
   "id": "a4f04317-394f-4897-8fc7-3da393c1db58",
   "metadata": {},
   "outputs": [],
   "source": [
    "hotel_df=hotel_df1.head(10000)"
   ]
  },
  {
   "cell_type": "code",
   "execution_count": 7,
   "id": "70940639-ff7a-4630-95be-717513fc5287",
   "metadata": {},
   "outputs": [
    {
     "data": {
      "text/plain": [
       "(10000, 14)"
      ]
     },
     "execution_count": 7,
     "metadata": {},
     "output_type": "execute_result"
    }
   ],
   "source": [
    "hotel_df.shape"
   ]
  },
  {
   "cell_type": "code",
   "execution_count": 8,
   "id": "50651fdb-a3ee-4194-a578-4e51d644e4c7",
   "metadata": {},
   "outputs": [
    {
     "name": "stdout",
     "output_type": "stream",
     "text": [
      "['hotelname', 'city', 'country', 'propertytype', 'starrating']\n"
     ]
    }
   ],
   "source": [
    "# selecting features\n",
    "req_features=['hotelname','city','country','propertytype','starrating']\n",
    "print(req_features)"
   ]
  },
  {
   "cell_type": "code",
   "execution_count": 9,
   "id": "b1ce778b-8521-43cc-a7bd-ac8d4aeb5a56",
   "metadata": {},
   "outputs": [
    {
     "name": "stderr",
     "output_type": "stream",
     "text": [
      "C:\\Users\\AAKASH\\AppData\\Local\\Temp\\ipykernel_62192\\2515255435.py:3: SettingWithCopyWarning: \n",
      "A value is trying to be set on a copy of a slice from a DataFrame.\n",
      "Try using .loc[row_indexer,col_indexer] = value instead\n",
      "\n",
      "See the caveats in the documentation: https://pandas.pydata.org/pandas-docs/stable/user_guide/indexing.html#returning-a-view-versus-a-copy\n",
      "  hotel_df[i]=hotel_df[i].fillna('')\n"
     ]
    }
   ],
   "source": [
    "# target to loose null values\n",
    "for i in req_features:\n",
    "    hotel_df[i]=hotel_df[i].fillna('')"
   ]
  },
  {
   "cell_type": "code",
   "execution_count": 10,
   "id": "ce1c9fba-f2f9-42ca-883d-a8929535438c",
   "metadata": {},
   "outputs": [],
   "source": [
    "#combining the col\n",
    "comb_feature = hotel_df['hotelname'].astype(str) + ' ' + hotel_df['city'].astype(str) + ' ' + hotel_df['country'].astype(str) + ' ' + hotel_df['propertytype'].astype(str) + ' ' + hotel_df['starrating'].astype(str)\n"
   ]
  },
  {
   "cell_type": "code",
   "execution_count": 11,
   "id": "cd248b75-9a3b-4c28-b807-e35133334023",
   "metadata": {},
   "outputs": [
    {
     "name": "stdout",
     "output_type": "stream",
     "text": [
      "0       Mediteran Bungalow Galeb Omis Croatia Holiday ...\n",
      "1                     Hotel Polonia Torun Poland Hotels 3\n",
      "2                Rifugio Sass Bece Canazei Italy Hotels 3\n",
      "3                  Madalena Hotel Mykonos Greece Hotels 3\n",
      "4                Pension Morenfeld Lagundo Italy Hotels 3\n",
      "                              ...                        \n",
      "9995     Alpin Garni die kleine Post Solda Italy Hotels 3\n",
      "9996    The Flames Sankt Marienkirchen bei Scharding A...\n",
      "9997     Leflet Sanlucar Sanlucar la Mayor Spain Hotels 3\n",
      "9998    Hotel Palacio de Elorriaga Vitoria-Gasteiz Spa...\n",
      "9999    Campanile Poitiers Sud - Aeroport Poitiers Fra...\n",
      "Length: 10000, dtype: object\n"
     ]
    }
   ],
   "source": [
    "print(comb_feature)"
   ]
  },
  {
   "cell_type": "code",
   "execution_count": 17,
   "id": "69aa3865-001b-428f-a239-bd9fdf6b432f",
   "metadata": {},
   "outputs": [],
   "source": [
    "#text to feature data\n",
    "vectorizer=TfidfVectorizer()"
   ]
  },
  {
   "cell_type": "code",
   "execution_count": 18,
   "id": "5f5149f3-a2f1-42bc-bd9f-0962827fe19f",
   "metadata": {},
   "outputs": [],
   "source": [
    "feature_vectors=vectorizer.fit_transform(comb_feature)"
   ]
  },
  {
   "cell_type": "code",
   "execution_count": 19,
   "id": "3e592a4b-419c-4811-8068-0a066243f7ae",
   "metadata": {},
   "outputs": [
    {
     "name": "stdout",
     "output_type": "stream",
     "text": [
      "  (0, 10089)\t0.31898889843832223\n",
      "  (0, 6120)\t0.16783355025094526\n",
      "  (0, 3510)\t0.23088339185783407\n",
      "  (0, 9747)\t0.4600197803185945\n",
      "  (0, 5050)\t0.4600197803185945\n",
      "  (0, 2297)\t0.4265164083530518\n",
      "  (0, 8498)\t0.4600197803185945\n",
      "  (1, 6202)\t0.07723119130001815\n",
      "  (1, 10561)\t0.36598418112353837\n",
      "  (1, 13392)\t0.6414803231989219\n",
      "  (1, 10582)\t0.6581228248344374\n",
      "  (1, 6187)\t0.1243714783954115\n",
      "  (2, 6488)\t0.16011538798783978\n",
      "  (2, 2519)\t0.4645033977268078\n",
      "  (2, 1572)\t0.5139883456163817\n",
      "  (2, 11806)\t0.5139883456163817\n",
      "  (2, 11282)\t0.47655442762873934\n",
      "  (2, 6202)\t0.05592400806692087\n",
      "  (3, 5530)\t0.31819543518514376\n",
      "  (3, 9178)\t0.5536686918284512\n",
      "  (3, 8077)\t0.7536835620317528\n",
      "  (3, 6202)\t0.08200381577217232\n",
      "  (3, 6187)\t0.1320572119887478\n",
      "  (4, 7311)\t0.5998042971159306\n",
      "  (4, 9028)\t0.6264948483515069\n",
      "  :\t:\n",
      "  (9996, 11747)\t0.3087355252375138\n",
      "  (9996, 1597)\t0.3899718078995453\n",
      "  (9996, 1179)\t0.19515472147020216\n",
      "  (9996, 13217)\t0.23152517978873882\n",
      "  (9996, 6202)\t0.05168912029820733\n",
      "  (9997, 11748)\t0.8006886295691148\n",
      "  (9997, 7522)\t0.4003443147845574\n",
      "  (9997, 8473)\t0.38328845155799557\n",
      "  (9997, 12558)\t0.14596199999752718\n",
      "  (9997, 7268)\t0.16884848900280258\n",
      "  (9997, 6202)\t0.043559078489821546\n",
      "  (9998, 4230)\t0.5111736256246334\n",
      "  (9998, 5137)\t0.4893961028231137\n",
      "  (9998, 14111)\t0.4893961028231137\n",
      "  (9998, 9960)\t0.4149382605693906\n",
      "  (9998, 12558)\t0.18636938751661952\n",
      "  (9998, 3674)\t0.20411218276657056\n",
      "  (9998, 6202)\t0.05561775516280903\n",
      "  (9998, 6187)\t0.08956565758206766\n",
      "  (9999, 10558)\t0.7563143321266422\n",
      "  (9999, 270)\t0.3915367076895148\n",
      "  (9999, 12853)\t0.32706281485119776\n",
      "  (9999, 2484)\t0.3843674551188648\n",
      "  (9999, 4895)\t0.1328902630239147\n",
      "  (9999, 6202)\t0.048160047051261395\n"
     ]
    }
   ],
   "source": [
    "print(feature_vectors)"
   ]
  },
  {
   "cell_type": "code",
   "execution_count": null,
   "id": "f6605cd0-af4b-43c2-8d0b-e71e5a69504a",
   "metadata": {},
   "outputs": [],
   "source": [
    "# finding similaritied using cosine similarity for recommendation'\n",
    "similarity = cosine_similarity(feature_vectors)"
   ]
  },
  {
   "cell_type": "code",
   "execution_count": null,
   "id": "eb30afe4-a21d-41ef-860e-40fac785c62c",
   "metadata": {},
   "outputs": [],
   "source": [
    "print(similarity.shape)"
   ]
  },
  {
   "cell_type": "code",
   "execution_count": 13,
   "id": "987ed748-c9dd-4b42-af97-2ed30d62caae",
   "metadata": {},
   "outputs": [
    {
     "name": "stdin",
     "output_type": "stream",
     "text": [
      "Enter the country name:  italy\n"
     ]
    },
    {
     "name": "stdout",
     "output_type": "stream",
     "text": [
      "Top 20 to 25 hotels in Italy:\n",
      "Hotel Europa\n",
      "Hotel Eden\n",
      "Hotel Cristallo\n",
      "Hotel Centrale\n",
      "Hotel Capri\n",
      "Hotel Plaza\n",
      "Hotel Mediterraneo\n",
      "Hotel Giardino\n",
      "Hotel Desiderio\n",
      "Hotel Tritone\n",
      "Villa Bellavista\n",
      "Hotel Gran Paradiso\n",
      "Hotel San Giorgio\n",
      "Hotel Trieste\n",
      "Hotel Edelweiss\n",
      "Hotel Milano\n",
      "Hotel Helvetia\n",
      "Hotel San Marco\n",
      "Hotel Ariston\n",
      "Hotel Villa Ombrosa\n",
      "Hotel Metropole\n",
      "Hotel Savoy\n",
      "Hotel Sorriso\n",
      "Hotel Belvedere\n",
      "Hotel Alba\n"
     ]
    }
   ],
   "source": [
    "# Convert the input to lowercase or uppercase\n",
    "country_name = input(\"Enter the country name: \").strip().lower()  # or .upper()\n",
    "\n",
    "# Filter DataFrame by country name (case insensitive)\n",
    "filtered_hotels = hotel_df[hotel_df['country'].str.lower() == country_name]\n",
    "\n",
    "# Check if any hotels exist for the given country\n",
    "if not filtered_hotels.empty:\n",
    "    # Get frequency of each hotel\n",
    "    hotel_counts = filtered_hotels['hotelname'].value_counts()\n",
    "    \n",
    "    # Select top 20 to 25 hotels based on frequency\n",
    "    top_hotels = hotel_counts.head(25)  # Adjust the number as needed\n",
    "    \n",
    "    # Display the top hotels\n",
    "    print(f\"Top 20 to 25 hotels in {country_name.capitalize()}:\")  # Capitalize the first letter for display\n",
    "    for hotel, count in top_hotels.items():\n",
    "        print(f\"{hotel}\")\n",
    "else:\n",
    "    print(f\"No hotels found in {country_name.capitalize()}\")\n"
   ]
  },
  {
   "cell_type": "code",
   "execution_count": 24,
   "id": "3a5df0a6-df8d-4935-827b-795d19e53acc",
   "metadata": {},
   "outputs": [
    {
     "name": "stdout",
     "output_type": "stream",
     "text": [
      "Requirement already satisfied: joblib in c:\\users\\aakash\\.conda\\envs\\gpu_env\\lib\\site-packages (1.3.2)\n",
      "Requirement already satisfied: scikit-learn in c:\\users\\aakash\\.conda\\envs\\gpu_env\\lib\\site-packages (1.4.0)\n",
      "Requirement already satisfied: numpy<2.0,>=1.19.5 in c:\\users\\aakash\\.conda\\envs\\gpu_env\\lib\\site-packages (from scikit-learn) (1.26.3)\n",
      "Requirement already satisfied: scipy>=1.6.0 in c:\\users\\aakash\\.conda\\envs\\gpu_env\\lib\\site-packages (from scikit-learn) (1.11.4)\n",
      "Requirement already satisfied: threadpoolctl>=2.0.0 in c:\\users\\aakash\\.conda\\envs\\gpu_env\\lib\\site-packages (from scikit-learn) (3.2.0)\n",
      "Note: you may need to restart the kernel to use updated packages.\n"
     ]
    }
   ],
   "source": [
    "pip install joblib scikit-learn"
   ]
  },
  {
   "cell_type": "code",
   "execution_count": 29,
   "id": "b0ab0ea1-9c31-4557-9329-b056fe130b44",
   "metadata": {},
   "outputs": [],
   "source": [
    "#saving model\n",
    "import joblib"
   ]
  },
  {
   "cell_type": "code",
   "execution_count": 33,
   "id": "45410e0b-a851-4d9f-89e5-e6e81f121463",
   "metadata": {},
   "outputs": [
    {
     "data": {
      "text/plain": [
       "['feature_vectors.pkl']"
      ]
     },
     "execution_count": 33,
     "metadata": {},
     "output_type": "execute_result"
    }
   ],
   "source": [
    "# Saved the model\n",
    "joblib.dump(vectorizer, 'vectorizer.pkl')\n",
    "joblib.dump(feature_vectors, 'feature_vectors.pkl')\n",
    "\n"
   ]
  },
  {
   "cell_type": "code",
   "execution_count": 31,
   "id": "7e8554fa-f63f-4b28-85f3-05cb570572de",
   "metadata": {},
   "outputs": [],
   "source": [
    "# Finding similarities using cosine similarity for recommendation\n",
    "similarity = cosine_similarity(feature_vectors)"
   ]
  },
  {
   "cell_type": "code",
   "execution_count": 32,
   "id": "8e093ff8-f510-491a-8b30-8162aa00ede4",
   "metadata": {},
   "outputs": [
    {
     "data": {
      "text/plain": [
       "array([[1.        , 0.        , 0.        , ..., 0.        , 0.        ,\n",
       "        0.        ],\n",
       "       [0.        , 1.        , 0.00431908, ..., 0.00336412, 0.01543484,\n",
       "        0.00371946],\n",
       "       [0.        , 0.00431908, 1.        , ..., 0.002436  , 0.00311037,\n",
       "        0.0026933 ],\n",
       "       ...,\n",
       "       [0.        , 0.00336412, 0.002436  , ..., 1.        , 0.02962551,\n",
       "        0.00209781],\n",
       "       [0.        , 0.01543484, 0.00311037, ..., 0.02962551, 1.        ,\n",
       "        0.00267855],\n",
       "       [0.        , 0.00371946, 0.0026933 , ..., 0.00209781, 0.00267855,\n",
       "        1.        ]])"
      ]
     },
     "execution_count": 32,
     "metadata": {},
     "output_type": "execute_result"
    }
   ],
   "source": [
    "similarity"
   ]
  },
  {
   "cell_type": "code",
   "execution_count": null,
   "id": "60e322e7-6600-4b93-9b5a-6d7e5da4dddd",
   "metadata": {},
   "outputs": [],
   "source": []
  }
 ],
 "metadata": {
  "kernelspec": {
   "display_name": "Python 3 (ipykernel)",
   "language": "python",
   "name": "python3"
  },
  "language_info": {
   "codemirror_mode": {
    "name": "ipython",
    "version": 3
   },
   "file_extension": ".py",
   "mimetype": "text/x-python",
   "name": "python",
   "nbconvert_exporter": "python",
   "pygments_lexer": "ipython3",
   "version": "3.9.18"
  }
 },
 "nbformat": 4,
 "nbformat_minor": 5
}
